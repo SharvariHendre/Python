{
 "cells": [
  {
   "cell_type": "markdown",
   "id": "1d439d46",
   "metadata": {},
   "source": [
    "Array"
   ]
  },
  {
   "cell_type": "code",
   "execution_count": 1,
   "id": "c4a3e848",
   "metadata": {},
   "outputs": [
    {
     "name": "stdout",
     "output_type": "stream",
     "text": [
      "array('i', [1, 2, 3, 4])\n"
     ]
    }
   ],
   "source": [
    "import array\n",
    "array=array.array('i',[1,2,3,4])\n",
    "print(array)\n"
   ]
  },
  {
   "cell_type": "markdown",
   "id": "822632d8",
   "metadata": {},
   "source": [
    "math"
   ]
  },
  {
   "cell_type": "code",
   "execution_count": 2,
   "id": "0305ef8b",
   "metadata": {},
   "outputs": [
    {
     "name": "stdout",
     "output_type": "stream",
     "text": [
      "5.0\n",
      "3.141592653589793\n"
     ]
    }
   ],
   "source": [
    "import math\n",
    "print(math.sqrt(25))\n",
    "print(math.pi)"
   ]
  },
  {
   "cell_type": "markdown",
   "id": "c7dd8fa9",
   "metadata": {},
   "source": [
    "random"
   ]
  },
  {
   "cell_type": "code",
   "execution_count": 3,
   "id": "7caa9b46",
   "metadata": {},
   "outputs": [
    {
     "name": "stdout",
     "output_type": "stream",
     "text": [
      "2\n",
      "apple\n"
     ]
    }
   ],
   "source": [
    "import random\n",
    "print(random.randint(1,10))\n",
    "print(random.choice([\"apple\",\"banana\",\"cherry\"]))"
   ]
  },
  {
   "cell_type": "markdown",
   "id": "1fc96ad7",
   "metadata": {},
   "source": [
    "File and directory access: os library"
   ]
  },
  {
   "cell_type": "code",
   "execution_count": 4,
   "id": "fd19c761",
   "metadata": {},
   "outputs": [
    {
     "name": "stdout",
     "output_type": "stream",
     "text": [
      "d:\\Python\\5-Modules\n"
     ]
    }
   ],
   "source": [
    "##Printing the present working directory\n",
    "import os\n",
    "print(os.getcwd())"
   ]
  },
  {
   "cell_type": "code",
   "execution_count": 6,
   "id": "f45309b1",
   "metadata": {},
   "outputs": [],
   "source": [
    "##Creating a folder inside a directory\n",
    "os.mkdir('test-dir')"
   ]
  },
  {
   "cell_type": "markdown",
   "id": "820e4673",
   "metadata": {},
   "source": [
    "Creating a copy of a text file"
   ]
  },
  {
   "cell_type": "code",
   "execution_count": 7,
   "id": "fd3ea098",
   "metadata": {},
   "outputs": [
    {
     "data": {
      "text/plain": [
       "'destination.txt'"
      ]
     },
     "execution_count": 7,
     "metadata": {},
     "output_type": "execute_result"
    }
   ],
   "source": [
    "import shutil\n",
    "shutil.copyfile('source.txt','destination.txt')"
   ]
  },
  {
   "cell_type": "markdown",
   "id": "631659ce",
   "metadata": {},
   "source": [
    "Data Serialization"
   ]
  },
  {
   "cell_type": "code",
   "execution_count": 8,
   "id": "aeeb615a",
   "metadata": {},
   "outputs": [
    {
     "name": "stdout",
     "output_type": "stream",
     "text": [
      "{\"name\": \"Sharvari\", \"age\": 20}\n",
      "<class 'str'>\n",
      "{'name': 'Sharvari', 'age': 20}\n",
      "<class 'dict'>\n"
     ]
    }
   ],
   "source": [
    "import json\n",
    "data={'name':'Sharvari','age':20}\n",
    "##json to dict\n",
    "json_str=json.dumps(data)\n",
    "print(json_str)\n",
    "print(type(json_str))\n",
    "#dict to json\n",
    "parsed_data=json.loads(json_str)\n",
    "print(parsed_data)\n",
    "print(type(parsed_data))"
   ]
  },
  {
   "cell_type": "markdown",
   "id": "80b203de",
   "metadata": {},
   "source": [
    "csv"
   ]
  },
  {
   "cell_type": "code",
   "execution_count": 9,
   "id": "17b6b2d1",
   "metadata": {},
   "outputs": [
    {
     "name": "stdout",
     "output_type": "stream",
     "text": [
      "['name', 'age']\n",
      "['Sharvari', '20']\n"
     ]
    }
   ],
   "source": [
    "import csv\n",
    "with open('example.csv',mode='w',newline='') as file:\n",
    "    writer=csv.writer(file)\n",
    "    writer.writerow(['name','age'])\n",
    "    writer.writerow(['Sharvari',20])\n",
    "\n",
    "with open('example.csv',mode='r') as file:\n",
    "    reader=csv.reader(file)\n",
    "    for row in reader:\n",
    "        print(row)"
   ]
  },
  {
   "cell_type": "markdown",
   "id": "e275ad45",
   "metadata": {},
   "source": [
    "datetime"
   ]
  },
  {
   "cell_type": "code",
   "execution_count": 10,
   "id": "f3706a6d",
   "metadata": {},
   "outputs": [
    {
     "name": "stdout",
     "output_type": "stream",
     "text": [
      "2025-06-18 18:39:33.654711\n",
      "2025-06-17 18:39:33.654711\n"
     ]
    }
   ],
   "source": [
    "from datetime import datetime,timedelta\n",
    "\n",
    "now=datetime.now()\n",
    "print(now)\n",
    "\n",
    "yesterday=now-timedelta(days=1)\n",
    "\n",
    "print(yesterday)"
   ]
  },
  {
   "cell_type": "code",
   "execution_count": 11,
   "id": "10aa1e7f",
   "metadata": {},
   "outputs": [
    {
     "name": "stdout",
     "output_type": "stream",
     "text": [
      "1750252174.712639\n",
      "1750252176.7131732\n"
     ]
    }
   ],
   "source": [
    "##time\n",
    "import time\n",
    "print(time.time())\n",
    "time.sleep(2)\n",
    "print(time.time())"
   ]
  },
  {
   "cell_type": "markdown",
   "id": "5854d143",
   "metadata": {},
   "source": [
    "Regular Expression"
   ]
  },
  {
   "cell_type": "code",
   "execution_count": 12,
   "id": "caa76210",
   "metadata": {},
   "outputs": [
    {
     "name": "stdout",
     "output_type": "stream",
     "text": [
      "123\n"
     ]
    }
   ],
   "source": [
    "import re\n",
    "\n",
    "pattern=r'\\d+'\n",
    "text='There are 123 apples 456'\n",
    "match=re.search(pattern,text)\n",
    "print(match.group())"
   ]
  },
  {
   "cell_type": "code",
   "execution_count": null,
   "id": "1253ff9f",
   "metadata": {},
   "outputs": [],
   "source": []
  }
 ],
 "metadata": {
  "kernelspec": {
   "display_name": "Python 3",
   "language": "python",
   "name": "python3"
  },
  "language_info": {
   "codemirror_mode": {
    "name": "ipython",
    "version": 3
   },
   "file_extension": ".py",
   "mimetype": "text/x-python",
   "name": "python",
   "nbconvert_exporter": "python",
   "pygments_lexer": "ipython3",
   "version": "3.13.0"
  }
 },
 "nbformat": 4,
 "nbformat_minor": 5
}
