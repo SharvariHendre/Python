{
 "cells": [
  {
   "cell_type": "markdown",
   "id": "f8ab9b62",
   "metadata": {},
   "source": [
    "Given two integer numbers, write a Python program to return their product only if the product is equal to or lower than 1000. Otherwise, return their sum."
   ]
  },
  {
   "cell_type": "code",
   "execution_count": 1,
   "id": "e893b70a",
   "metadata": {},
   "outputs": [
    {
     "name": "stdout",
     "output_type": "stream",
     "text": [
      "600\n",
      "70\n"
     ]
    }
   ],
   "source": [
    "def multiplication_or_sum(num1,num2):\n",
    "    \n",
    "    product=num1*num2\n",
    "\n",
    "    if product<=1000:\n",
    "      return product\n",
    "    else:\n",
    "      sum=num1+num2\n",
    "      return sum\n",
    "\n",
    "print(multiplication_or_sum(20,30))\n",
    "print(multiplication_or_sum(40,30))"
   ]
  },
  {
   "cell_type": "markdown",
   "id": "f198d822",
   "metadata": {},
   "source": [
    "Write Python code to iterate through the first 10 numbers and, in each iteration, print the sum of the current and previous number."
   ]
  },
  {
   "cell_type": "code",
   "execution_count": 2,
   "id": "df1c1df6",
   "metadata": {},
   "outputs": [
    {
     "name": "stdout",
     "output_type": "stream",
     "text": [
      "Printing current and previous number sum in a range(10)\n",
      "Current number: 1 Previous Number: 0 Sum:1\n",
      "Current number: 2 Previous Number: 1 Sum:3\n",
      "Current number: 3 Previous Number: 2 Sum:5\n",
      "Current number: 4 Previous Number: 3 Sum:7\n",
      "Current number: 5 Previous Number: 4 Sum:9\n",
      "Current number: 6 Previous Number: 5 Sum:11\n",
      "Current number: 7 Previous Number: 6 Sum:13\n",
      "Current number: 8 Previous Number: 7 Sum:15\n",
      "Current number: 9 Previous Number: 8 Sum:17\n",
      "Current number: 10 Previous Number: 9 Sum:19\n"
     ]
    }
   ],
   "source": [
    "print(\"Printing current and previous number sum in a range(10)\")\n",
    "previous_num=0\n",
    "for i in range(1,11):\n",
    "    print(f\"Current number: {i} Previous Number: {previous_num} Sum:{previous_num+i}\")\n",
    "    previous_num=i"
   ]
  },
  {
   "cell_type": "markdown",
   "id": "c3d5543f",
   "metadata": {},
   "source": [
    "Write a Python code to accept a string from the user and display characters present at an even index number."
   ]
  },
  {
   "cell_type": "code",
   "execution_count": 3,
   "id": "7c12cf58",
   "metadata": {},
   "outputs": [
    {
     "name": "stdout",
     "output_type": "stream",
     "text": [
      "Original String: Sharvari\n",
      "S\n",
      "a\n",
      "v\n",
      "r\n"
     ]
    }
   ],
   "source": [
    "word = input('Enter word ')\n",
    "print(\"Original String:\", word)\n",
    "\n",
    "x = list(word)\n",
    "for i in x[0::2]:\n",
    "    print(i)\n"
   ]
  },
  {
   "cell_type": "markdown",
   "id": "8575181c",
   "metadata": {},
   "source": [
    "Write a Python code to remove characters from a string from 0 to n and return a new string."
   ]
  },
  {
   "cell_type": "code",
   "execution_count": 4,
   "id": "06418a33",
   "metadata": {},
   "outputs": [
    {
     "name": "stdout",
     "output_type": "stream",
     "text": [
      "Removing characters from a string\n",
      "Original String\n",
      "vari\n",
      "Original String\n",
      "native\n"
     ]
    }
   ],
   "source": [
    "def remove_chars(word, n):\n",
    "    # write your code\n",
    "    print(\"Original String\")\n",
    "    x=word[n:]\n",
    "    return x\n",
    "\n",
    "print(\"Removing characters from a string\")\n",
    "print(remove_chars(\"Sharvari\", 4)) \n",
    "# output 'tive' first four characters are removed\n",
    "\n",
    "print(remove_chars(\"pynative\", 2)) \n",
    "# output 'native'"
   ]
  },
  {
   "cell_type": "markdown",
   "id": "263a43b9",
   "metadata": {},
   "source": [
    "Write a code to return True if the list’s first and last numbers are the same. If the numbers are different, return False."
   ]
  },
  {
   "cell_type": "code",
   "execution_count": 5,
   "id": "3c189865",
   "metadata": {},
   "outputs": [
    {
     "name": "stdout",
     "output_type": "stream",
     "text": [
      "Given List:  [10, 20, 30, 40, 10]\n",
      "result is True\n",
      "Given List:  [75, 65, 35, 75, 30]\n",
      "result is False\n"
     ]
    }
   ],
   "source": [
    "def first_last_same(numberList):\n",
    "    print(\"Given List: \",numberList)\n",
    "    first_digit=numberList[0]\n",
    "    last_digit=numberList[-1]\n",
    "    if first_digit==last_digit:\n",
    "        return True\n",
    "    else:\n",
    "        return False\n",
    "\n",
    "numbers_x = [10, 20, 30, 40, 10]\n",
    "print(\"result is\", first_last_same(numbers_x))\n",
    "\n",
    "numbers_y = [75, 65, 35, 75, 30]\n",
    "print(\"result is\", first_last_same(numbers_y))"
   ]
  },
  {
   "cell_type": "markdown",
   "id": "350020b0",
   "metadata": {},
   "source": [
    "Write a Python code to display numbers from a list divisible by 5"
   ]
  },
  {
   "cell_type": "code",
   "execution_count": 6,
   "id": "2b68ea81",
   "metadata": {},
   "outputs": [
    {
     "name": "stdout",
     "output_type": "stream",
     "text": [
      "Given List:  [10, 20, 33, 46, 55]\n",
      "Numbers divisible by 5 are: \n",
      "10\n",
      "20\n",
      "55\n"
     ]
    }
   ],
   "source": [
    "givenList=[10, 20, 33, 46, 55]\n",
    "print(\"Given List: \",givenList)\n",
    "print(\"Numbers divisible by 5 are: \")\n",
    "for num in givenList:\n",
    "    if num%5==0:\n",
    "        print(num)\n",
    "    "
   ]
  },
  {
   "cell_type": "markdown",
   "id": "e648ba39",
   "metadata": {},
   "source": [
    "Write a Python code to find how often the substring “Emma” appears in the given string."
   ]
  },
  {
   "cell_type": "code",
   "execution_count": 7,
   "id": "faf220b2",
   "metadata": {},
   "outputs": [
    {
     "name": "stdout",
     "output_type": "stream",
     "text": [
      "Emma appeared 2 times\n"
     ]
    }
   ],
   "source": [
    "str_x = \"Emma is good developer. Emma is a writer\"\n",
    "count=str_x.count(\"Emma\")\n",
    "print(f\"Emma appeared {count} times\")"
   ]
  },
  {
   "cell_type": "markdown",
   "id": "2c1f1b28",
   "metadata": {},
   "source": [
    "Print the following pattern\n",
    "\n",
    "1 \n",
    "\n",
    "2 2 \n",
    "\n",
    "3 3 3 \n",
    "\n",
    "4 4 4 4 \n",
    "\n",
    "5 5 5 5 5"
   ]
  },
  {
   "cell_type": "code",
   "execution_count": 8,
   "id": "d5d9dfa9",
   "metadata": {},
   "outputs": [
    {
     "name": "stdout",
     "output_type": "stream",
     "text": [
      "1 \n",
      "\n",
      "2 2 \n",
      "\n",
      "3 3 3 \n",
      "\n",
      "4 4 4 4 \n",
      "\n",
      "5 5 5 5 5 \n",
      "\n"
     ]
    }
   ],
   "source": [
    "for num in range(1,6):\n",
    "    for i in range(num):\n",
    "        print(num, end=\" \")\n",
    "    print(\"\\n\")"
   ]
  },
  {
   "cell_type": "markdown",
   "id": "30e89475",
   "metadata": {},
   "source": [
    "Write a Python code to check if the given number is a palindrome. A palindrome number reads the same forwards and backward. For example, 545 is a palindrome number.\n",
    "\n",
    "Expected Output:\n",
    "\n",
    "original number 121\n",
    "Yes. given number is palindrome number\n",
    "\n",
    "original number 125\n",
    "No. given number is not palindrome number"
   ]
  },
  {
   "cell_type": "code",
   "execution_count": 9,
   "id": "2fb3e0d7",
   "metadata": {},
   "outputs": [
    {
     "name": "stdout",
     "output_type": "stream",
     "text": [
      "True\n",
      "False\n"
     ]
    }
   ],
   "source": [
    "def is_palindrome(number):\n",
    "\n",
    "  # Handle negative numbers (they are typically not palindromes)\n",
    "  if number < 0:\n",
    "    return False\n",
    "\n",
    "  # Convert the number to a string\n",
    "  original_string = str(number)\n",
    "\n",
    "  # Reverse the string using slicing\n",
    "  reversed_string = original_string[::-1]\n",
    "\n",
    "  # Compare the original and reversed strings\n",
    "  if original_string == reversed_string:\n",
    "    return True\n",
    "  else:\n",
    "    return False\n",
    "\n",
    "# Example usage:\n",
    "print(is_palindrome(121))   # Output: True\n",
    "print(is_palindrome(123))   # Output: False\n"
   ]
  },
  {
   "cell_type": "markdown",
   "id": "8cfa7581",
   "metadata": {},
   "source": [
    "Given two lists of numbers, write Python code to create a new list containing odd numbers from the first list and even numbers from the second list.\n",
    "\n",
    "Given:\n",
    "\n",
    "list1 = [10, 20, 25, 30, 35]\n",
    "\n",
    "list2 = [40, 45, 60, 75, 90]\n",
    "\n",
    "Expected Output:\n",
    "\n",
    "result list: [25, 35, 40, 60, 90]"
   ]
  },
  {
   "cell_type": "code",
   "execution_count": 10,
   "id": "4b2781aa",
   "metadata": {},
   "outputs": [
    {
     "name": "stdout",
     "output_type": "stream",
     "text": [
      "result list: [25, 35, 40, 60, 90]\n"
     ]
    }
   ],
   "source": [
    "def merge_list(list1, list2):\n",
    "    result_list = []\n",
    "    for num in list1:\n",
    "        # check if current number is odd\n",
    "        if num % 2 != 0:\n",
    "            # add odd number to result list\n",
    "            result_list.append(num)\n",
    "    for num in list2:\n",
    "        # check if current number is even\n",
    "        if num % 2 == 0:\n",
    "            # add even number to result list\n",
    "            result_list.append(num)\n",
    "    return result_list\n",
    "\n",
    "list1 = [10, 20, 25, 30, 35]\n",
    "list2 = [40, 45, 60, 75, 90]\n",
    "print(\"result list:\", merge_list(list1, list2))"
   ]
  },
  {
   "cell_type": "markdown",
   "id": "d46fc68b",
   "metadata": {},
   "source": [
    "If the given integer number is 7536, the output shall be “6 3 5 7“, with a space separating the digits."
   ]
  },
  {
   "cell_type": "code",
   "execution_count": 11,
   "id": "0455ef15",
   "metadata": {},
   "outputs": [
    {
     "name": "stdout",
     "output_type": "stream",
     "text": [
      "Given number 7536\n",
      "6 3 5 7 "
     ]
    }
   ],
   "source": [
    "number = 7536\n",
    "print(\"Given number\", number)\n",
    "while number > 0:\n",
    "    digit = number % 10\n",
    "    number = number // 10\n",
    "    print(digit, end=\" \")"
   ]
  },
  {
   "cell_type": "code",
   "execution_count": null,
   "id": "a93377b1",
   "metadata": {},
   "outputs": [],
   "source": [
    "\n"
   ]
  },
  {
   "cell_type": "code",
   "execution_count": null,
   "id": "623a586a",
   "metadata": {},
   "outputs": [],
   "source": []
  }
 ],
 "metadata": {
  "kernelspec": {
   "display_name": "Python 3",
   "language": "python",
   "name": "python3"
  },
  "language_info": {
   "codemirror_mode": {
    "name": "ipython",
    "version": 3
   },
   "file_extension": ".py",
   "mimetype": "text/x-python",
   "name": "python",
   "nbconvert_exporter": "python",
   "pygments_lexer": "ipython3",
   "version": "3.13.0"
  }
 },
 "nbformat": 4,
 "nbformat_minor": 5
}
