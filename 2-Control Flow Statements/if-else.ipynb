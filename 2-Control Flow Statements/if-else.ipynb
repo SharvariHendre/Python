{
 "cells": [
  {
   "cell_type": "markdown",
   "id": "f67e9123",
   "metadata": {},
   "source": [
    "1.if Statement\n",
    "\n",
    "2.else Statement\n",
    "\n",
    "3.elif Statement\n",
    "\n",
    "4.Nested Conditional Statements\n",
    "\n",
    "5.Practical Examples\n",
    "\n",
    "6.Common Errors and Best Practices"
   ]
  },
  {
   "cell_type": "markdown",
   "id": "3e472713",
   "metadata": {},
   "source": [
    "IF Statements"
   ]
  },
  {
   "cell_type": "code",
   "execution_count": 1,
   "id": "d51292b9",
   "metadata": {},
   "outputs": [
    {
     "name": "stdout",
     "output_type": "stream",
     "text": [
      "You are eligible for voting\n"
     ]
    }
   ],
   "source": [
    "age=20\n",
    "if age>=18:\n",
    "    print(\"You are eligible for voting\")"
   ]
  },
  {
   "cell_type": "code",
   "execution_count": 2,
   "id": "fe8fbc92",
   "metadata": {},
   "outputs": [
    {
     "data": {
      "text/plain": [
       "True"
      ]
     },
     "execution_count": 2,
     "metadata": {},
     "output_type": "execute_result"
    }
   ],
   "source": [
    "age>=18"
   ]
  },
  {
   "cell_type": "markdown",
   "id": "d4b3e397",
   "metadata": {},
   "source": [
    "ELSE-STATEMENT"
   ]
  },
  {
   "cell_type": "code",
   "execution_count": 3,
   "id": "3218b5f0",
   "metadata": {},
   "outputs": [
    {
     "name": "stdout",
     "output_type": "stream",
     "text": [
      "You are a minor\n"
     ]
    }
   ],
   "source": [
    "age=16\n",
    "if age>=18:\n",
    "    print(\"You can vote\")\n",
    "else:\n",
    "    print(\"You are a minor\")"
   ]
  },
  {
   "cell_type": "markdown",
   "id": "426ef748",
   "metadata": {},
   "source": [
    "ELIF:ELSE_IF STATEMENT\n"
   ]
  },
  {
   "cell_type": "code",
   "execution_count": 4,
   "id": "27d46cb4",
   "metadata": {},
   "outputs": [
    {
     "name": "stdout",
     "output_type": "stream",
     "text": [
      "You are an adult\n"
     ]
    }
   ],
   "source": [
    "age=90\n",
    "if age<13:\n",
    "    print(\"You are a child\")\n",
    "elif age<18:\n",
    "    print(\"You are a teenager\")\n",
    "else:\n",
    "    print(\"You are an adult\")\n"
   ]
  },
  {
   "cell_type": "markdown",
   "id": "c169cef8",
   "metadata": {},
   "source": [
    "NESTED CONDITIONAL STATEMENTS\n"
   ]
  },
  {
   "cell_type": "markdown",
   "id": "087083b2",
   "metadata": {},
   "source": [
    "Check whether a number is even odd or negative"
   ]
  },
  {
   "cell_type": "code",
   "execution_count": 5,
   "id": "fee60e62",
   "metadata": {},
   "outputs": [
    {
     "name": "stdout",
     "output_type": "stream",
     "text": [
      "The number is positive\n",
      "The number is odd\n"
     ]
    }
   ],
   "source": [
    "num=int(input(\"Enter a number: \"))\n",
    "if num>0:\n",
    "    print(\"The number is positive\")\n",
    "    if num%2==0:\n",
    "        print(\"The number is even\")\n",
    "    else:\n",
    "        print(\"The number is odd\")\n",
    "\n",
    "else:\n",
    "    print(\"The number is zero or negative\")"
   ]
  },
  {
   "cell_type": "markdown",
   "id": "20480ca1",
   "metadata": {},
   "source": [
    "Practical Examples"
   ]
  },
  {
   "cell_type": "markdown",
   "id": "16f7d733",
   "metadata": {},
   "source": [
    "Determine if a year is a leap year using nested condition statement\n"
   ]
  },
  {
   "cell_type": "code",
   "execution_count": 6,
   "id": "beec439f",
   "metadata": {},
   "outputs": [
    {
     "name": "stdout",
     "output_type": "stream",
     "text": [
      "2004 is a leap year\n"
     ]
    }
   ],
   "source": [
    "year=int(input(\"Enter a year: \"))\n",
    "if year%4==0:\n",
    "    if year%100==0:\n",
    "        if year%400==0:\n",
    "            print(year,\"is a leap year\")\n",
    "        else:\n",
    "            print(year,\"is not a leap year\")\n",
    "    else:\n",
    "        print(year,\"is a leap year\")\n",
    "\n",
    "else:\n",
    "    print(year,\"is not a leap year\")\n",
    "\n"
   ]
  },
  {
   "cell_type": "markdown",
   "id": "a383956a",
   "metadata": {},
   "source": [
    "Simple Calculator program"
   ]
  },
  {
   "cell_type": "code",
   "execution_count": 7,
   "id": "cd416734",
   "metadata": {},
   "outputs": [
    {
     "name": "stdout",
     "output_type": "stream",
     "text": [
      "Result:  5\n"
     ]
    }
   ],
   "source": [
    "num1=int(input(\"Enter 1st number: \"))\n",
    "num2=int(input(\"Enter 2nd number: \"))\n",
    "operation=input(\"Enter operation (+, -, *, /): \")\n",
    "\n",
    "if operation=='+':\n",
    "    result=num1+num2\n",
    "elif operation=='-':\n",
    "    result=num1-num2\n",
    "elif operation=='*':\n",
    "    result=num1*num2\n",
    "elif operation=='/':\n",
    "    if num2 != 0:\n",
    "        result=num1 / num2\n",
    "    else:\n",
    "        result=\"Error! Division by zero.\"\n",
    "else:\n",
    "    result= \"Invalid operation.\"\n",
    "\n",
    "print(\"Result: \", result)"
   ]
  },
  {
   "cell_type": "markdown",
   "id": "c75a0622",
   "metadata": {},
   "source": [
    "Determine the ticket price based on age and whether the person is a student.\n",
    "Ticket pricing based on age and student status"
   ]
  },
  {
   "cell_type": "code",
   "execution_count": 8,
   "id": "a012a554",
   "metadata": {},
   "outputs": [
    {
     "name": "stdout",
     "output_type": "stream",
     "text": [
      "Ticket Price: $18\n"
     ]
    }
   ],
   "source": [
    "age = int(input(\"Enter your age: \"))\n",
    "is_student = input(\"Are you a student? (yes/no): \").lower()\n",
    "\n",
    "if age < 5:\n",
    "    price = \"Free\"\n",
    "elif age <= 12:\n",
    "    price = \"$10\"\n",
    "elif age <= 17:\n",
    "    if is_student == 'yes':\n",
    "        price = \"$12\"\n",
    "    else:\n",
    "        price = \"$15\"\n",
    "elif age <= 64:\n",
    "    if is_student == 'yes':\n",
    "        price = \"$18\"\n",
    "    else:\n",
    "        price = \"$25\"\n",
    "else:\n",
    "    price = \"$20\"\n",
    "\n",
    "print(\"Ticket Price:\", price)"
   ]
  },
  {
   "cell_type": "markdown",
   "id": "89ef0a66",
   "metadata": {},
   "source": [
    "Calculate an employee's bonus based on their performance rating and years of service."
   ]
  },
  {
   "cell_type": "code",
   "execution_count": 9,
   "id": "ad707a08",
   "metadata": {},
   "outputs": [
    {
     "name": "stdout",
     "output_type": "stream",
     "text": [
      "Bonus Amount: $50000.00\n"
     ]
    }
   ],
   "source": [
    "years_of_service = int(input(\"Enter years of service: \"))\n",
    "performance_rating = float(input(\"Enter performance rating (1.0 to 5.0): \"))\n",
    "\n",
    "if performance_rating >= 4.5:\n",
    "    if years_of_service > 10:\n",
    "        bonus_percentage = 20\n",
    "    elif years_of_service > 5:\n",
    "        bonus_percentage = 15\n",
    "    else:\n",
    "        bonus_percentage = 10\n",
    "elif performance_rating >= 3.5:\n",
    "    if years_of_service > 10:\n",
    "        bonus_percentage = 15\n",
    "    elif years_of_service > 5:\n",
    "        bonus_percentage = 10\n",
    "    else:\n",
    "        bonus_percentage = 5\n",
    "else:\n",
    "    bonus_percentage = 0\n",
    "\n",
    "salary = float(input(\"Enter current salary: \"))\n",
    "bonus_amount = salary * bonus_percentage / 100\n",
    "\n",
    "print(\"Bonus Amount: ${:.2f}\".format(bonus_amount))"
   ]
  },
  {
   "cell_type": "markdown",
   "id": "49857f78",
   "metadata": {},
   "source": [
    "A simple user login system that checks the username and password."
   ]
  },
  {
   "cell_type": "code",
   "execution_count": 10,
   "id": "31214604",
   "metadata": {},
   "outputs": [
    {
     "name": "stdout",
     "output_type": "stream",
     "text": [
      "Username not found.\n"
     ]
    }
   ],
   "source": [
    "stored_username = \"admin\"\n",
    "stored_password = \"password123\"\n",
    "\n",
    "\n",
    "username = input(\"Enter username: \")\n",
    "password = input(\"Enter password: \")\n",
    "\n",
    "if username == stored_username:\n",
    "    if password == stored_password:\n",
    "        print(\"Login successful!\")\n",
    "    else:\n",
    "        print(\"Incorrect password.\")\n",
    "else:\n",
    "    print(\"Username not found.\")"
   ]
  },
  {
   "cell_type": "code",
   "execution_count": null,
   "id": "1602af67",
   "metadata": {},
   "outputs": [],
   "source": []
  }
 ],
 "metadata": {
  "kernelspec": {
   "display_name": "Python 3",
   "language": "python",
   "name": "python3"
  },
  "language_info": {
   "codemirror_mode": {
    "name": "ipython",
    "version": 3
   },
   "file_extension": ".py",
   "mimetype": "text/x-python",
   "name": "python",
   "nbconvert_exporter": "python",
   "pygments_lexer": "ipython3",
   "version": "3.13.0"
  }
 },
 "nbformat": 4,
 "nbformat_minor": 5
}
