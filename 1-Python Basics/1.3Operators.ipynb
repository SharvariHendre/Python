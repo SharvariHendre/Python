{
 "cells": [
  {
   "cell_type": "markdown",
   "metadata": {},
   "source": [
    "## Arithmethic Operators"
   ]
  },
  {
   "cell_type": "code",
   "execution_count": 1,
   "metadata": {},
   "outputs": [
    {
     "name": "stdout",
     "output_type": "stream",
     "text": [
      "Addition:  15\n",
      "Subtraction:  5\n",
      "Multiplication:  50\n",
      "Division:  2.0\n",
      "Floor Result:  2\n",
      "Modulo:  0\n",
      "Exponential:  100000\n"
     ]
    }
   ],
   "source": [
    "\n",
    "\n",
    "a=10\n",
    "b = 5\n",
    "\n",
    "add_result=a+b  #additon\n",
    "sub_result=a-b  #subtraction \n",
    "mult_result=a*b #multiplication\n",
    "div_result=a/b  #division\n",
    "floor_div_result=a//b ## floor division\n",
    "modulus_result=a%b #modulus operation\n",
    "\n",
    "exponent_result=a**b ## Exponentiation\n",
    "\n",
    "\n",
    "print(\"Addition: \",add_result)\n",
    "print(\"Subtraction: \" ,sub_result)\n",
    "print(\"Multiplication: \" ,mult_result)\n",
    "print(\"Division: \" ,div_result)\n",
    "print(\"Floor Result: \", floor_div_result)\n",
    "print(\"Modulo: \",modulus_result)\n",
    "print(\"Exponential: \",exponent_result)\n",
    "\n"
   ]
  },
  {
   "cell_type": "markdown",
   "metadata": {},
   "source": [
    "Comparison Operators"
   ]
  },
  {
   "cell_type": "code",
   "execution_count": 2,
   "metadata": {},
   "outputs": [
    {
     "data": {
      "text/plain": [
       "True"
      ]
     },
     "execution_count": 2,
     "metadata": {},
     "output_type": "execute_result"
    }
   ],
   "source": [
    "## == Equal to\n",
    "a=10\n",
    "b=10\n",
    "a==b\n",
    "\n"
   ]
  },
  {
   "cell_type": "code",
   "execution_count": 3,
   "metadata": {},
   "outputs": [
    {
     "data": {
      "text/plain": [
       "True"
      ]
     },
     "execution_count": 3,
     "metadata": {},
     "output_type": "execute_result"
    }
   ],
   "source": [
    "str1=\"Krish\"\n",
    "str2=\"Krish\"\n",
    "\n",
    "str1==str2"
   ]
  },
  {
   "cell_type": "code",
   "execution_count": 4,
   "metadata": {},
   "outputs": [
    {
     "name": "stdout",
     "output_type": "stream",
     "text": [
      "True\n",
      "True\n",
      "True\n"
     ]
    }
   ],
   "source": [
    "## Not Equal to !=\n",
    "str1!=str2\n",
    "\n",
    "str3=\"Krish\"\n",
    "str4=\"krish\"\n",
    "str3!=str4\n",
    "\n",
    "# greater than >\n",
    "num1=45\n",
    "num2=55\n",
    "num1>num2\n",
    "\n",
    "## less than <\n",
    "print(num1<num2)\n",
    "\n",
    "#greater than or equal to\n",
    "number1=45\n",
    "number2=45\n",
    "print(number1>=number2)\n",
    "\n",
    "#less than or equal to\n",
    "number1=44\n",
    "number2=45\n",
    "print(number1<=number2)\n",
    "\n"
   ]
  },
  {
   "cell_type": "markdown",
   "metadata": {},
   "source": [
    "Logical Operators"
   ]
  },
  {
   "cell_type": "code",
   "execution_count": 5,
   "metadata": {},
   "outputs": [
    {
     "name": "stdout",
     "output_type": "stream",
     "text": [
      "True\n",
      "False\n",
      "False\n"
     ]
    },
    {
     "data": {
      "text/plain": [
       "True"
      ]
     },
     "execution_count": 5,
     "metadata": {},
     "output_type": "execute_result"
    }
   ],
   "source": [
    "\n",
    "## And ,Not,OR\n",
    "X=True\n",
    "Y=True\n",
    "result =X and Y\n",
    "print(result)\n",
    "\n",
    "X=False\n",
    "Y=True\n",
    "result =X and Y\n",
    "print(result)\n",
    "\n",
    "## OR\n",
    "X=False\n",
    "Y=False\n",
    "result =X or Y\n",
    "print(result)\n",
    "\n",
    "# Not operator\n",
    "X=False\n",
    "not X\n",
    "True\n"
   ]
  },
  {
   "cell_type": "markdown",
   "metadata": {},
   "source": [
    "Simple Calculator"
   ]
  },
  {
   "cell_type": "code",
   "execution_count": 6,
   "metadata": {},
   "outputs": [
    {
     "name": "stdout",
     "output_type": "stream",
     "text": [
      "Addition: 9.0\n",
      "Subtraction: 1.0\n",
      "Multiplication: 20.0\n",
      "Division: 1.25\n",
      "Floor Division: 1.0\n",
      "Modulus: 1.0\n",
      "Exponentiation: 625.0\n"
     ]
    }
   ],
   "source": [
    "num1 = float(input(\"Enter first number: \"))\n",
    "num2 = float(input(\"Enter second number: \"))\n",
    "\n",
    "# Performing arithmetic operations\n",
    "addition = num1 + num2\n",
    "subtraction = num1 - num2\n",
    "multiplication = num1 * num2\n",
    "division = num1 / num2\n",
    "floor_division = num1 // num2\n",
    "modulus = num1 % num2\n",
    "exponentiation = num1 ** num2\n",
    "\n",
    "# Displaying results\n",
    "print(\"Addition:\", addition)\n",
    "print(\"Subtraction:\", subtraction)\n",
    "print(\"Multiplication:\", multiplication)\n",
    "print(\"Division:\", division)\n",
    "print(\"Floor Division:\", floor_division)\n",
    "print(\"Modulus:\", modulus)\n",
    "print(\"Exponentiation:\", exponentiation)"
   ]
  },
  {
   "cell_type": "code",
   "execution_count": null,
   "metadata": {},
   "outputs": [],
   "source": []
  }
 ],
 "metadata": {
  "kernelspec": {
   "display_name": "Python 3",
   "language": "python",
   "name": "python3"
  },
  "language_info": {
   "codemirror_mode": {
    "name": "ipython",
    "version": 3
   },
   "file_extension": ".py",
   "mimetype": "text/x-python",
   "name": "python",
   "nbconvert_exporter": "python",
   "pygments_lexer": "ipython3",
   "version": "3.13.0"
  }
 },
 "nbformat": 4,
 "nbformat_minor": 2
}
