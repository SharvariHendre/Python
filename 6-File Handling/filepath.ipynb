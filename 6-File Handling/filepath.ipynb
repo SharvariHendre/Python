{
 "cells": [
  {
   "cell_type": "markdown",
   "id": "8d875d58",
   "metadata": {},
   "source": [
    "Using os module"
   ]
  },
  {
   "cell_type": "markdown",
   "id": "2aa490cf",
   "metadata": {},
   "source": [
    "Printing the current working directory\n"
   ]
  },
  {
   "cell_type": "code",
   "execution_count": 1,
   "id": "3e3bc499",
   "metadata": {},
   "outputs": [
    {
     "name": "stdout",
     "output_type": "stream",
     "text": [
      "Current working directory is d:\\Python\\6-File Handling\n"
     ]
    }
   ],
   "source": [
    "import os\n",
    "cwd=os.getcwd()\n",
    "print(f\"Current working directory is {cwd}\")"
   ]
  },
  {
   "cell_type": "markdown",
   "id": "4bc0a332",
   "metadata": {},
   "source": [
    "Creating a new directory"
   ]
  },
  {
   "cell_type": "code",
   "execution_count": 2,
   "id": "0c1029a1",
   "metadata": {},
   "outputs": [
    {
     "name": "stdout",
     "output_type": "stream",
     "text": [
      "Directory 'package' create\n"
     ]
    }
   ],
   "source": [
    "new_directory=\"package\"\n",
    "os.mkdir(new_directory)\n",
    "print(f\"Directory '{new_directory}' create\")"
   ]
  },
  {
   "cell_type": "markdown",
   "id": "38fd52c0",
   "metadata": {},
   "source": [
    "Listing files and Directories"
   ]
  },
  {
   "cell_type": "code",
   "execution_count": 3,
   "id": "dbe2e567",
   "metadata": {},
   "outputs": [
    {
     "name": "stdout",
     "output_type": "stream",
     "text": [
      "['example.bin', 'example.txt', 'fileoperation.ipynb', 'filepath.ipynb', 'package']\n"
     ]
    }
   ],
   "source": [
    "items=os.listdir('.')\n",
    "print(items)"
   ]
  },
  {
   "cell_type": "markdown",
   "id": "132c3a57",
   "metadata": {},
   "source": [
    "Joining paths"
   ]
  },
  {
   "cell_type": "code",
   "execution_count": 4,
   "id": "b257d83c",
   "metadata": {},
   "outputs": [
    {
     "name": "stdout",
     "output_type": "stream",
     "text": [
      "folder\\file.txt\n"
     ]
    }
   ],
   "source": [
    "dir_name=\"folder\"\n",
    "file_name=\"file.txt\"\n",
    "full_path=os.path.join(dir_name,file_name)\n",
    "print(full_path)"
   ]
  },
  {
   "cell_type": "code",
   "execution_count": 5,
   "id": "4737acc2",
   "metadata": {},
   "outputs": [
    {
     "name": "stdout",
     "output_type": "stream",
     "text": [
      "d:\\Python\\6-File Handling\\folder\\file.txt\n"
     ]
    }
   ],
   "source": [
    "\n",
    "dir_name=\"folder\"\n",
    "file_name=\"file.txt\"\n",
    "full_path=os.path.join(os.getcwd(),dir_name,file_name)\n",
    "print(full_path)"
   ]
  },
  {
   "cell_type": "code",
   "execution_count": 6,
   "id": "cfc5d677",
   "metadata": {},
   "outputs": [
    {
     "name": "stdout",
     "output_type": "stream",
     "text": [
      "The path 'example1.txt' does not exists\n"
     ]
    }
   ],
   "source": [
    "path='example1.txt'\n",
    "if os.path.exists(path):\n",
    "    print(f\"The path '{path}' exists\")\n",
    "else:\n",
    "    print(f\"The path '{path}' does not exists\")"
   ]
  },
  {
   "cell_type": "markdown",
   "id": "492e679e",
   "metadata": {},
   "source": [
    "Checking if a path is a file or directory\n"
   ]
  },
  {
   "cell_type": "code",
   "execution_count": 7,
   "id": "2c07305b",
   "metadata": {},
   "outputs": [
    {
     "name": "stdout",
     "output_type": "stream",
     "text": [
      "The path 'example.txt' is a file.\n"
     ]
    }
   ],
   "source": [
    "import os\n",
    "\n",
    "path = 'example.txt'\n",
    "if os.path.isfile(path):\n",
    "    print(f\"The path '{path}' is a file.\")\n",
    "elif os.path.isdir(path):\n",
    "    print(f\"The path '{path}' is a directory.\")\n",
    "else:\n",
    "    print(f\"The path '{path}' is neither a file nor a directory.\")"
   ]
  },
  {
   "cell_type": "markdown",
   "id": "c8b5361d",
   "metadata": {},
   "source": [
    "Getting the absolute path"
   ]
  },
  {
   "cell_type": "code",
   "execution_count": 8,
   "id": "4e9c184c",
   "metadata": {},
   "outputs": [
    {
     "name": "stdout",
     "output_type": "stream",
     "text": [
      "d:\\Python\\6-File Handling\\example.txt\n"
     ]
    }
   ],
   "source": [
    "relative_path='example.txt'\n",
    "absolute_path=os.path.abspath(relative_path)\n",
    "print(absolute_path)"
   ]
  },
  {
   "cell_type": "code",
   "execution_count": null,
   "id": "65dda0b5",
   "metadata": {},
   "outputs": [],
   "source": []
  }
 ],
 "metadata": {
  "kernelspec": {
   "display_name": "Python 3",
   "language": "python",
   "name": "python3"
  },
  "language_info": {
   "codemirror_mode": {
    "name": "ipython",
    "version": 3
   },
   "file_extension": ".py",
   "mimetype": "text/x-python",
   "name": "python",
   "nbconvert_exporter": "python",
   "pygments_lexer": "ipython3",
   "version": "3.13.0"
  }
 },
 "nbformat": 4,
 "nbformat_minor": 5
}
