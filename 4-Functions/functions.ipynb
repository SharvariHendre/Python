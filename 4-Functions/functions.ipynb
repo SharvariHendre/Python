{
 "cells": [
  {
   "cell_type": "markdown",
   "id": "e1c069d7",
   "metadata": {},
   "source": [
    "Syntax:"
   ]
  },
  {
   "cell_type": "code",
   "execution_count": 1,
   "id": "af9e6d27",
   "metadata": {},
   "outputs": [],
   "source": [
    "def function_name(parameters):\n",
    "    \"\"\"Docdtring\"\"\"\n",
    "    #Function Body\n",
    "    return expresssion"
   ]
  },
  {
   "cell_type": "markdown",
   "id": "d7a5399f",
   "metadata": {},
   "source": [
    "Why Functions: To create a code and use it in multiple files"
   ]
  },
  {
   "cell_type": "markdown",
   "id": "fbdd123d",
   "metadata": {},
   "source": [
    "Creating a function"
   ]
  },
  {
   "cell_type": "code",
   "execution_count": 2,
   "id": "ed20ac63",
   "metadata": {},
   "outputs": [],
   "source": [
    "def even_or_odd(num):\n",
    "    \"\"\"To check even or odd\"\"\"\n",
    "    if num%2==0:\n",
    "        print(\"Number is even\")\n",
    "    else:\n",
    "        print(\"odd\")"
   ]
  },
  {
   "cell_type": "markdown",
   "id": "2fb76f7f",
   "metadata": {},
   "source": [
    "Calling a function"
   ]
  },
  {
   "cell_type": "code",
   "execution_count": 3,
   "id": "8a801c26",
   "metadata": {},
   "outputs": [
    {
     "name": "stdout",
     "output_type": "stream",
     "text": [
      "Number is even\n"
     ]
    }
   ],
   "source": [
    "even_or_odd(24)"
   ]
  },
  {
   "cell_type": "markdown",
   "id": "0149b2f9",
   "metadata": {},
   "source": [
    "Functions with multiple parameters"
   ]
  },
  {
   "cell_type": "code",
   "execution_count": 4,
   "id": "8a774e98",
   "metadata": {},
   "outputs": [
    {
     "data": {
      "text/plain": [
       "9"
      ]
     },
     "execution_count": 4,
     "metadata": {},
     "output_type": "execute_result"
    }
   ],
   "source": [
    "def add(a,b):\n",
    "    c=a+b\n",
    "    return c\n",
    "##Better way of writing\n",
    "    return a+b\n",
    "add(5,4)\n"
   ]
  },
  {
   "cell_type": "markdown",
   "id": "24c6d657",
   "metadata": {},
   "source": [
    "Default Parameter: Guest is a default parameter here"
   ]
  },
  {
   "cell_type": "code",
   "execution_count": 5,
   "id": "e0001e5b",
   "metadata": {},
   "outputs": [
    {
     "name": "stdout",
     "output_type": "stream",
     "text": [
      "Hello, Guest\n"
     ]
    }
   ],
   "source": [
    "def greet(name=\"Guest\"):\n",
    "    print(f\"Hello, {name}\")\n",
    "\n",
    "greet()"
   ]
  },
  {
   "cell_type": "code",
   "execution_count": 6,
   "id": "54427ef5",
   "metadata": {},
   "outputs": [
    {
     "name": "stdout",
     "output_type": "stream",
     "text": [
      "Hello, Sharvari\n"
     ]
    }
   ],
   "source": [
    "def greet(name=\"Guest\"):\n",
    "    print(f\"Hello, {name}\")\n",
    "\n",
    "greet(\"Sharvari\")"
   ]
  },
  {
   "cell_type": "markdown",
   "id": "e76a33c8",
   "metadata": {},
   "source": [
    "Variable length arguments\n",
    "\n",
    "-Positional arguments\n",
    "\n",
    "-Keyword arguments"
   ]
  },
  {
   "cell_type": "code",
   "execution_count": 7,
   "id": "e49612c6",
   "metadata": {},
   "outputs": [
    {
     "name": "stdout",
     "output_type": "stream",
     "text": [
      "1\n",
      "2\n",
      "3\n",
      "4\n",
      "5\n",
      "6\n",
      "7\n",
      "8\n",
      "9\n",
      "Sharvari\n"
     ]
    }
   ],
   "source": [
    "##Positional Argument\n",
    "\n",
    "def print_num(*args):\n",
    "    for numbers in args:\n",
    "        print(numbers)\n",
    "print_num(1,2,3,4,5,6,7,8,9,\"Sharvari\")"
   ]
  },
  {
   "cell_type": "code",
   "execution_count": 8,
   "id": "cc09cb9d",
   "metadata": {},
   "outputs": [
    {
     "name": "stdout",
     "output_type": "stream",
     "text": [
      "name:Sharvari\n",
      "age:21\n",
      "country:India\n"
     ]
    }
   ],
   "source": [
    " ##Keyword arguments\n",
    "def print_details(**kwargs):\n",
    "    for key, value in kwargs.items():\n",
    "        print(f\"{key}:{value}\")\n",
    "print_details(name=\"Sharvari\",age=21,country=\"India\")"
   ]
  },
  {
   "cell_type": "code",
   "execution_count": 9,
   "id": "c91b3c00",
   "metadata": {},
   "outputs": [
    {
     "name": "stdout",
     "output_type": "stream",
     "text": [
      " Positional arument :1\n",
      " Positional arument :2\n",
      " Positional arument :3\n",
      " Positional arument :4\n",
      " Positional arument :Krish\n",
      "name:Krish\n",
      "age:32\n",
      "country:India\n"
     ]
    }
   ],
   "source": [
    "##Combining both\n",
    "def print_details(*args,**kwargs):\n",
    "    for val in args:\n",
    "        print(f\" Positional arument :{val}\")\n",
    "    \n",
    "    for key,value in kwargs.items():\n",
    "        print(f\"{key}:{value}\")\n",
    "\n",
    "\n",
    "print_details(1,2,3,4,\"Krish\",name=\"Krish\",age=\"32\",country=\"India\")"
   ]
  },
  {
   "cell_type": "markdown",
   "id": "d27ea486",
   "metadata": {},
   "source": [
    "Return statements"
   ]
  },
  {
   "cell_type": "code",
   "execution_count": 10,
   "id": "bfc3d4be",
   "metadata": {},
   "outputs": [
    {
     "data": {
      "text/plain": [
       "6"
      ]
     },
     "execution_count": 10,
     "metadata": {},
     "output_type": "execute_result"
    }
   ],
   "source": [
    "def multipy(a,b):\n",
    "    return a*b\n",
    "multipy(2,3)"
   ]
  },
  {
   "cell_type": "code",
   "execution_count": 11,
   "id": "82dedb5f",
   "metadata": {},
   "outputs": [
    {
     "data": {
      "text/plain": [
       "(6, 2)"
      ]
     },
     "execution_count": 11,
     "metadata": {},
     "output_type": "execute_result"
    }
   ],
   "source": [
    "##Returning multiple parameters\n",
    "def multipy(a,b):\n",
    "    return a*b,a\n",
    "multipy(2,3)"
   ]
  },
  {
   "cell_type": "code",
   "execution_count": null,
   "id": "bfbda68a",
   "metadata": {},
   "outputs": [],
   "source": []
  }
 ],
 "metadata": {
  "kernelspec": {
   "display_name": "Python 3",
   "language": "python",
   "name": "python3"
  },
  "language_info": {
   "codemirror_mode": {
    "name": "ipython",
    "version": 3
   },
   "file_extension": ".py",
   "mimetype": "text/x-python",
   "name": "python",
   "nbconvert_exporter": "python",
   "pygments_lexer": "ipython3",
   "version": "3.13.0"
  }
 },
 "nbformat": 4,
 "nbformat_minor": 5
}
