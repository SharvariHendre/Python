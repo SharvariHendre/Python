{
 "cells": [
  {
   "cell_type": "markdown",
   "id": "9b79e435",
   "metadata": {},
   "source": [
    "Temperature Conversion"
   ]
  },
  {
   "cell_type": "code",
   "execution_count": 1,
   "id": "909334dc",
   "metadata": {},
   "outputs": [
    {
     "name": "stdout",
     "output_type": "stream",
     "text": [
      "Temperature in celcius: 45.89\n",
      "Temperature in farenheit: 77.00\n"
     ]
    }
   ],
   "source": [
    "def temp_converter(temp,unit):\n",
    "    if unit=='C':\n",
    "        return temp * 9/5 +32 ## Celcius to Fahrenheit\n",
    "    elif unit=='F':\n",
    "        return temp * 5/9 +32 ## Fahrenheit to Celcius\n",
    "    else:\n",
    "        return None\n",
    "\n",
    "print(f\"Temperature in celcius: {temp_converter(25,'F'):.2f}\")\n",
    "print(f\"Temperature in farenheit: {temp_converter(25,'C'):.2f}\")\n",
    "\n",
    "     "
   ]
  },
  {
   "cell_type": "markdown",
   "id": "16f67f67",
   "metadata": {},
   "source": [
    "Password Strength Checker"
   ]
  },
  {
   "cell_type": "code",
   "execution_count": 2,
   "id": "863af297",
   "metadata": {},
   "outputs": [
    {
     "name": "stdout",
     "output_type": "stream",
     "text": [
      "False\n",
      "False\n",
      "False\n",
      "False\n",
      "True\n"
     ]
    }
   ],
   "source": [
    "def is_strong_password(password):\n",
    "    if len(password) < 8:\n",
    "        return False\n",
    "    if not any(char.isdigit()for char in password): #iterates through each character to check if its a digit, if not a digit returns false\n",
    "        return False\n",
    "    if not any(char.islower()for char in (password)):\n",
    "        return False\n",
    "    if not any(char.isupper()for char in (password)):\n",
    "        return False\n",
    "    if not any(char in '!@#$%^&*()_+'for char in (password)):\n",
    "        return False\n",
    "    return True\n",
    "\n",
    "print(is_strong_password(\"ABC123\"))\n",
    "print(is_strong_password(\"abc123\"))\n",
    "print(is_strong_password(\"#\"))\n",
    "print(is_strong_password(\"abc4683#\"))\n",
    "print(is_strong_password(\"Abcdesfrthyf123$\"))"
   ]
  },
  {
   "cell_type": "markdown",
   "id": "5959e4f3",
   "metadata": {},
   "source": [
    "Calculate the total cost of items in a shopping cart"
   ]
  },
  {
   "cell_type": "code",
   "execution_count": 3,
   "id": "b141bcd2",
   "metadata": {},
   "outputs": [
    {
     "name": "stdout",
     "output_type": "stream",
     "text": [
      "5.8999999999999995\n"
     ]
    }
   ],
   "source": [
    "def calculate_total_cost(cart):\n",
    "    total_cost=0\n",
    "    for item in cart:\n",
    "        total_cost+=item['price']* item['quantity']\n",
    "\n",
    "    return total_cost\n",
    "\n",
    "\n",
    "## Example cart data\n",
    "\n",
    "cart=[\n",
    "    {'name':'Apple','price':0.5,'quantity':4},\n",
    "    {'name':'Banana','price':0.3,'quantity':6},\n",
    "    {'name':'Orange','price':0.7,'quantity':3}\n",
    "\n",
    "]\n",
    "\n",
    "## calling the function\n",
    "total_cost=calculate_total_cost(cart)\n",
    "print(total_cost)"
   ]
  },
  {
   "cell_type": "markdown",
   "id": "286a0156",
   "metadata": {},
   "source": [
    "Check if a string is palindrome"
   ]
  },
  {
   "cell_type": "code",
   "execution_count": 4,
   "id": "543bdd23",
   "metadata": {},
   "outputs": [
    {
     "name": "stdout",
     "output_type": "stream",
     "text": [
      "True\n",
      "False\n"
     ]
    }
   ],
   "source": [
    "def is_palindrome(s):\n",
    "    s=s.lower().replace(\" \",\"\")\n",
    "    return s==s[::-1]\n",
    "\n",
    "print(is_palindrome(\"A man a plan a canal Panama\"))\n",
    "print(is_palindrome(\"Hello\"))"
   ]
  },
  {
   "cell_type": "markdown",
   "id": "bcb72cd4",
   "metadata": {},
   "source": [
    "Last 3 remaining"
   ]
  },
  {
   "cell_type": "code",
   "execution_count": null,
   "id": "6cde8cde",
   "metadata": {},
   "outputs": [],
   "source": []
  }
 ],
 "metadata": {
  "kernelspec": {
   "display_name": "Python 3",
   "language": "python",
   "name": "python3"
  },
  "language_info": {
   "codemirror_mode": {
    "name": "ipython",
    "version": 3
   },
   "file_extension": ".py",
   "mimetype": "text/x-python",
   "name": "python",
   "nbconvert_exporter": "python",
   "pygments_lexer": "ipython3",
   "version": "3.13.0"
  }
 },
 "nbformat": 4,
 "nbformat_minor": 5
}
